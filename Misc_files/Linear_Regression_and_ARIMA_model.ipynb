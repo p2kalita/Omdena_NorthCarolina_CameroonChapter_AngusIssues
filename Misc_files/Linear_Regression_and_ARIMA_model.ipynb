{
  "cells": [
    {
      "cell_type": "code",
      "execution_count": 3,
      "metadata": {},
      "outputs": [],
      "source": [
        "import os"
      ]
    },
    {
      "cell_type": "code",
      "execution_count": 9,
      "metadata": {},
      "outputs": [
        {
          "data": {
            "text/plain": [
              "'d:\\\\Angus_Issues\\\\NorthCarolina_CameroonChapter_AngusIssues\\\\research'"
            ]
          },
          "execution_count": 9,
          "metadata": {},
          "output_type": "execute_result"
        }
      ],
      "source": [
        "%pwd"
      ]
    },
    {
      "cell_type": "code",
      "execution_count": 10,
      "metadata": {},
      "outputs": [],
      "source": [
        "os.chdir(\"../\")"
      ]
    },
    {
      "cell_type": "code",
      "execution_count": 11,
      "metadata": {
        "colab": {
          "base_uri": "https://localhost:8080/"
        },
        "id": "E1bFwthfK1y-",
        "outputId": "0f175cfa-8e1b-4c56-d985-6064e7d89a85"
      },
      "outputs": [
        {
          "name": "stdout",
          "output_type": "stream",
          "text": [
            "Requirement already satisfied: pandas in d:\\angus_issues\\northcarolina_cameroonchapter_angusissues\\venv\\lib\\site-packages (2.0.3)\n",
            "Requirement already satisfied: numpy in d:\\angus_issues\\northcarolina_cameroonchapter_angusissues\\venv\\lib\\site-packages (1.24.4)\n",
            "Requirement already satisfied: scikit-learn in d:\\angus_issues\\northcarolina_cameroonchapter_angusissues\\venv\\lib\\site-packages (1.3.2)\n",
            "Requirement already satisfied: statsmodels in d:\\angus_issues\\northcarolina_cameroonchapter_angusissues\\venv\\lib\\site-packages (0.14.1)\n",
            "Requirement already satisfied: python-dateutil>=2.8.2 in d:\\angus_issues\\northcarolina_cameroonchapter_angusissues\\venv\\lib\\site-packages (from pandas) (2.9.0)\n",
            "Requirement already satisfied: pytz>=2020.1 in d:\\angus_issues\\northcarolina_cameroonchapter_angusissues\\venv\\lib\\site-packages (from pandas) (2024.1)\n",
            "Requirement already satisfied: tzdata>=2022.1 in d:\\angus_issues\\northcarolina_cameroonchapter_angusissues\\venv\\lib\\site-packages (from pandas) (2024.1)\n",
            "Requirement already satisfied: scipy>=1.5.0 in d:\\angus_issues\\northcarolina_cameroonchapter_angusissues\\venv\\lib\\site-packages (from scikit-learn) (1.10.1)\n",
            "Requirement already satisfied: joblib>=1.1.1 in d:\\angus_issues\\northcarolina_cameroonchapter_angusissues\\venv\\lib\\site-packages (from scikit-learn) (1.4.2)\n",
            "Requirement already satisfied: threadpoolctl>=2.0.0 in d:\\angus_issues\\northcarolina_cameroonchapter_angusissues\\venv\\lib\\site-packages (from scikit-learn) (3.5.0)\n",
            "Requirement already satisfied: patsy>=0.5.4 in d:\\angus_issues\\northcarolina_cameroonchapter_angusissues\\venv\\lib\\site-packages (from statsmodels) (0.5.6)\n",
            "Requirement already satisfied: packaging>=21.3 in d:\\angus_issues\\northcarolina_cameroonchapter_angusissues\\venv\\lib\\site-packages (from statsmodels) (24.1)\n",
            "Requirement already satisfied: six in d:\\angus_issues\\northcarolina_cameroonchapter_angusissues\\venv\\lib\\site-packages (from patsy>=0.5.4->statsmodels) (1.16.0)\n",
            "            Unnamed: 0    Cow  Body Weight (kg)  Daily Hay Dry matter (kg)  \\\n",
            "Date                                                                         \n",
            "2022-01-01           0  Cow 1        391.030076                  15.097939   \n",
            "2022-01-02           1  Cow 1        497.429880                  25.603158   \n",
            "2022-01-03           2  Cow 1        383.263409                  24.392390   \n",
            "2022-01-04           3  Cow 1        420.832973                  13.501311   \n",
            "2022-01-05           4  Cow 1        460.102113                  17.936188   \n",
            "\n",
            "            hay intake fresh  \n",
            "Date                          \n",
            "2022-01-01         25.130865  \n",
            "2022-01-02         37.378380  \n",
            "2022-01-03         61.928021  \n",
            "2022-01-04         53.642013  \n",
            "2022-01-05         52.433684  \n",
            "Unnamed: 0                     int64\n",
            "Cow                           object\n",
            "Body Weight (kg)             float64\n",
            "Daily Hay Dry matter (kg)    float64\n",
            "hay intake fresh             float64\n",
            "dtype: object\n"
          ]
        }
      ],
      "source": [
        "# Install necessary packages if not already installed\n",
        "!pip install pandas numpy scikit-learn statsmodels\n",
        "\n",
        "# Import libraries\n",
        "import pandas as pd\n",
        "import numpy as np\n",
        "from sklearn.linear_model import LinearRegression\n",
        "from sklearn.metrics import mean_squared_error, mean_absolute_error\n",
        "from statsmodels.tsa.arima.model import ARIMA\n",
        "\n",
        "# Load your time series data\n",
        "data = pd.read_csv('simulated_dataNEw.csv', parse_dates=['Date'], index_col='Date')\n",
        "\n",
        "# Display the first few rows to verify\n",
        "print(data.head())\n",
        "\n",
        "# Check the data types of each column\n",
        "print(data.dtypes)\n",
        "\n",
        "# Drop non-numeric columns if necessary\n",
        "if 'Cow' in data.columns:\n",
        "    data.drop(columns=['Cow'], inplace=True)\n"
      ]
    },
    {
      "cell_type": "code",
      "execution_count": 12,
      "metadata": {
        "id": "YU23AmQ4XTSg"
      },
      "outputs": [],
      "source": [
        "# Group by date and take the mean of 'Body Weight (kg)' for each date\n",
        "data = data.groupby(data.index).mean()\n",
        "\n",
        "# Fill missing values using forward fill method\n",
        "data['Body Weight (kg)'].ffill(inplace=True)\n",
        "\n",
        "# Ensure the index is sorted and set frequency to daily\n",
        "data = data.sort_index()\n",
        "data = data.asfreq('D')\n",
        "\n",
        "# Create a time feature\n",
        "data['Time'] = np.arange(len(data))\n"
      ]
    },
    {
      "cell_type": "code",
      "execution_count": 13,
      "metadata": {
        "colab": {
          "base_uri": "https://localhost:8080/"
        },
        "id": "MzfeMb9pm6Nd",
        "outputId": "e85d1055-14fc-46f2-bd2b-e3e04a33b82e"
      },
      "outputs": [
        {
          "name": "stdout",
          "output_type": "stream",
          "text": [
            "Requirement already satisfied: pandas in d:\\angus_issues\\northcarolina_cameroonchapter_angusissues\\venv\\lib\\site-packages (2.0.3)\n",
            "Requirement already satisfied: scikit-learn in d:\\angus_issues\\northcarolina_cameroonchapter_angusissues\\venv\\lib\\site-packages (1.3.2)\n",
            "Requirement already satisfied: python-dateutil>=2.8.2 in d:\\angus_issues\\northcarolina_cameroonchapter_angusissues\\venv\\lib\\site-packages (from pandas) (2.9.0)\n",
            "Requirement already satisfied: pytz>=2020.1 in d:\\angus_issues\\northcarolina_cameroonchapter_angusissues\\venv\\lib\\site-packages (from pandas) (2024.1)\n",
            "Requirement already satisfied: tzdata>=2022.1 in d:\\angus_issues\\northcarolina_cameroonchapter_angusissues\\venv\\lib\\site-packages (from pandas) (2024.1)\n",
            "Requirement already satisfied: numpy>=1.20.3 in d:\\angus_issues\\northcarolina_cameroonchapter_angusissues\\venv\\lib\\site-packages (from pandas) (1.24.4)\n",
            "Requirement already satisfied: scipy>=1.5.0 in d:\\angus_issues\\northcarolina_cameroonchapter_angusissues\\venv\\lib\\site-packages (from scikit-learn) (1.10.1)\n",
            "Requirement already satisfied: joblib>=1.1.1 in d:\\angus_issues\\northcarolina_cameroonchapter_angusissues\\venv\\lib\\site-packages (from scikit-learn) (1.4.2)\n",
            "Requirement already satisfied: threadpoolctl>=2.0.0 in d:\\angus_issues\\northcarolina_cameroonchapter_angusissues\\venv\\lib\\site-packages (from scikit-learn) (3.5.0)\n",
            "Requirement already satisfied: six>=1.5 in d:\\angus_issues\\northcarolina_cameroonchapter_angusissues\\venv\\lib\\site-packages (from python-dateutil>=2.8.2->pandas) (1.16.0)\n"
          ]
        }
      ],
      "source": [
        "!pip install pandas scikit-learn\n"
      ]
    },
    {
      "cell_type": "code",
      "execution_count": 15,
      "metadata": {
        "id": "HUSqvkM1njy_"
      },
      "outputs": [],
      "source": [
        "import pandas as pd\n",
        "from sklearn.model_selection import train_test_split\n",
        "from sklearn.linear_model import LinearRegression\n",
        "from sklearn.metrics import mean_squared_error\n",
        "import numpy as np\n",
        "\n",
        "# Load the data\n",
        "data = pd.read_csv('simulated_dataNEw.csv', parse_dates=['Date'], index_col='Date')\n",
        "\n",
        "# Keep only the 'Body Weight (kg)' column\n",
        "data = data[['Body Weight (kg)']]\n",
        "\n",
        "# Remove duplicates by aggregating (e.g., taking the mean for each date)\n",
        "data = data.groupby(data.index).mean()\n",
        "\n",
        "# Ensure the index is sorted\n",
        "data = data.sort_index()\n",
        "\n",
        "# Fill any missing values\n",
        "data['Body Weight (kg)'].ffill(inplace=True)\n",
        "\n",
        "# Prepare the data for linear regression\n",
        "data['Day'] = (data.index - data.index[0]).days  # Convert dates to a numerical format\n"
      ]
    },
    {
      "cell_type": "code",
      "execution_count": 16,
      "metadata": {
        "id": "jiZFXWRUnw1W"
      },
      "outputs": [],
      "source": [
        "# Define features and target variable\n",
        "X = data[['Day']]\n",
        "y = data['Body Weight (kg)']\n"
      ]
    },
    {
      "cell_type": "code",
      "execution_count": 17,
      "metadata": {
        "id": "wPdC8mern9Bs"
      },
      "outputs": [],
      "source": [
        "# Split the data into training and testing sets\n",
        "X_train, X_test, y_train, y_test = train_test_split(X, y, test_size=0.2, random_state=42)\n"
      ]
    },
    {
      "cell_type": "code",
      "execution_count": 18,
      "metadata": {
        "colab": {
          "base_uri": "https://localhost:8080/",
          "height": 75
        },
        "id": "xAkPAI_OoCbJ",
        "outputId": "c73ea039-7ae6-4c1b-910a-16834b0c2799"
      },
      "outputs": [
        {
          "data": {
            "text/html": [
              "<style>#sk-container-id-1 {color: black;}#sk-container-id-1 pre{padding: 0;}#sk-container-id-1 div.sk-toggleable {background-color: white;}#sk-container-id-1 label.sk-toggleable__label {cursor: pointer;display: block;width: 100%;margin-bottom: 0;padding: 0.3em;box-sizing: border-box;text-align: center;}#sk-container-id-1 label.sk-toggleable__label-arrow:before {content: \"▸\";float: left;margin-right: 0.25em;color: #696969;}#sk-container-id-1 label.sk-toggleable__label-arrow:hover:before {color: black;}#sk-container-id-1 div.sk-estimator:hover label.sk-toggleable__label-arrow:before {color: black;}#sk-container-id-1 div.sk-toggleable__content {max-height: 0;max-width: 0;overflow: hidden;text-align: left;background-color: #f0f8ff;}#sk-container-id-1 div.sk-toggleable__content pre {margin: 0.2em;color: black;border-radius: 0.25em;background-color: #f0f8ff;}#sk-container-id-1 input.sk-toggleable__control:checked~div.sk-toggleable__content {max-height: 200px;max-width: 100%;overflow: auto;}#sk-container-id-1 input.sk-toggleable__control:checked~label.sk-toggleable__label-arrow:before {content: \"▾\";}#sk-container-id-1 div.sk-estimator input.sk-toggleable__control:checked~label.sk-toggleable__label {background-color: #d4ebff;}#sk-container-id-1 div.sk-label input.sk-toggleable__control:checked~label.sk-toggleable__label {background-color: #d4ebff;}#sk-container-id-1 input.sk-hidden--visually {border: 0;clip: rect(1px 1px 1px 1px);clip: rect(1px, 1px, 1px, 1px);height: 1px;margin: -1px;overflow: hidden;padding: 0;position: absolute;width: 1px;}#sk-container-id-1 div.sk-estimator {font-family: monospace;background-color: #f0f8ff;border: 1px dotted black;border-radius: 0.25em;box-sizing: border-box;margin-bottom: 0.5em;}#sk-container-id-1 div.sk-estimator:hover {background-color: #d4ebff;}#sk-container-id-1 div.sk-parallel-item::after {content: \"\";width: 100%;border-bottom: 1px solid gray;flex-grow: 1;}#sk-container-id-1 div.sk-label:hover label.sk-toggleable__label {background-color: #d4ebff;}#sk-container-id-1 div.sk-serial::before {content: \"\";position: absolute;border-left: 1px solid gray;box-sizing: border-box;top: 0;bottom: 0;left: 50%;z-index: 0;}#sk-container-id-1 div.sk-serial {display: flex;flex-direction: column;align-items: center;background-color: white;padding-right: 0.2em;padding-left: 0.2em;position: relative;}#sk-container-id-1 div.sk-item {position: relative;z-index: 1;}#sk-container-id-1 div.sk-parallel {display: flex;align-items: stretch;justify-content: center;background-color: white;position: relative;}#sk-container-id-1 div.sk-item::before, #sk-container-id-1 div.sk-parallel-item::before {content: \"\";position: absolute;border-left: 1px solid gray;box-sizing: border-box;top: 0;bottom: 0;left: 50%;z-index: -1;}#sk-container-id-1 div.sk-parallel-item {display: flex;flex-direction: column;z-index: 1;position: relative;background-color: white;}#sk-container-id-1 div.sk-parallel-item:first-child::after {align-self: flex-end;width: 50%;}#sk-container-id-1 div.sk-parallel-item:last-child::after {align-self: flex-start;width: 50%;}#sk-container-id-1 div.sk-parallel-item:only-child::after {width: 0;}#sk-container-id-1 div.sk-dashed-wrapped {border: 1px dashed gray;margin: 0 0.4em 0.5em 0.4em;box-sizing: border-box;padding-bottom: 0.4em;background-color: white;}#sk-container-id-1 div.sk-label label {font-family: monospace;font-weight: bold;display: inline-block;line-height: 1.2em;}#sk-container-id-1 div.sk-label-container {text-align: center;}#sk-container-id-1 div.sk-container {/* jupyter's `normalize.less` sets `[hidden] { display: none; }` but bootstrap.min.css set `[hidden] { display: none !important; }` so we also need the `!important` here to be able to override the default hidden behavior on the sphinx rendered scikit-learn.org. See: https://github.com/scikit-learn/scikit-learn/issues/21755 */display: inline-block !important;position: relative;}#sk-container-id-1 div.sk-text-repr-fallback {display: none;}</style><div id=\"sk-container-id-1\" class=\"sk-top-container\"><div class=\"sk-text-repr-fallback\"><pre>LinearRegression()</pre><b>In a Jupyter environment, please rerun this cell to show the HTML representation or trust the notebook. <br />On GitHub, the HTML representation is unable to render, please try loading this page with nbviewer.org.</b></div><div class=\"sk-container\" hidden><div class=\"sk-item\"><div class=\"sk-estimator sk-toggleable\"><input class=\"sk-toggleable__control sk-hidden--visually\" id=\"sk-estimator-id-1\" type=\"checkbox\" checked><label for=\"sk-estimator-id-1\" class=\"sk-toggleable__label sk-toggleable__label-arrow\">LinearRegression</label><div class=\"sk-toggleable__content\"><pre>LinearRegression()</pre></div></div></div></div></div>"
            ],
            "text/plain": [
              "LinearRegression()"
            ]
          },
          "execution_count": 18,
          "metadata": {},
          "output_type": "execute_result"
        }
      ],
      "source": [
        "# Initialize and train the model\n",
        "model = LinearRegression()\n",
        "model.fit(X_train, y_train)\n"
      ]
    },
    {
      "cell_type": "code",
      "execution_count": 19,
      "metadata": {
        "colab": {
          "base_uri": "https://localhost:8080/"
        },
        "id": "txdGBZbaoIC5",
        "outputId": "71499e94-93c3-44c4-8bb1-5c106d72a031"
      },
      "outputs": [
        {
          "name": "stdout",
          "output_type": "stream",
          "text": [
            "Coefficient: -0.016327642986250786\n",
            "Intercept: 452.4608537664357\n"
          ]
        }
      ],
      "source": [
        "# Print the model coefficients\n",
        "print(f\"Coefficient: {model.coef_[0]}\")\n",
        "print(f\"Intercept: {model.intercept_}\")\n"
      ]
    },
    {
      "cell_type": "code",
      "execution_count": 20,
      "metadata": {
        "colab": {
          "base_uri": "https://localhost:8080/"
        },
        "id": "7xFxIS3ToP2J",
        "outputId": "0cc7203e-5d5c-46a9-f37c-e64f650f55ae"
      },
      "outputs": [
        {
          "name": "stdout",
          "output_type": "stream",
          "text": [
            "Mean Squared Error: 237.78757459704664\n"
          ]
        }
      ],
      "source": [
        "# Make predictions on the test set\n",
        "y_pred = model.predict(X_test)\n",
        "\n",
        "# Calculate and print the mean squared error\n",
        "mse = mean_squared_error(y_test, y_pred)\n",
        "print(f\"Mean Squared Error: {mse}\")\n"
      ]
    },
    {
      "cell_type": "code",
      "execution_count": 22,
      "metadata": {
        "colab": {
          "base_uri": "https://localhost:8080/"
        },
        "id": "dosHykW4oWor",
        "outputId": "08f25c97-1a21-4653-e244-f3e67577c3d1"
      },
      "outputs": [
        {
          "name": "stdout",
          "output_type": "stream",
          "text": [
            "            Predicted Body Weight (kg)\n",
            "2022-03-02                  451.481195\n",
            "2022-03-03                  451.464868\n",
            "2022-03-04                  451.448540\n",
            "2022-03-05                  451.432212\n",
            "2022-03-06                  451.415885\n",
            "2022-03-07                  451.399557\n",
            "2022-03-08                  451.383229\n",
            "2022-03-09                  451.366902\n",
            "2022-03-10                  451.350574\n",
            "2022-03-11                  451.334246\n"
          ]
        },
        {
          "name": "stderr",
          "output_type": "stream",
          "text": [
            "d:\\Angus_Issues\\NorthCarolina_CameroonChapter_AngusIssues\\venv\\lib\\site-packages\\sklearn\\base.py:465: UserWarning: X does not have valid feature names, but LinearRegression was fitted with feature names\n",
            "  warnings.warn(\n"
          ]
        }
      ],
      "source": [
        "import pandas as pd\n",
        "from sklearn.linear_model import LinearRegression\n",
        "from sklearn.model_selection import train_test_split\n",
        "import numpy as np\n",
        "\n",
        "# Load and preprocess data\n",
        "data = pd.read_csv('simulated_dataNEw.csv', parse_dates=['Date'], index_col='Date')\n",
        "\n",
        "# Keep only the 'Body Weight (kg)' column\n",
        "data = data[['Body Weight (kg)']]\n",
        "\n",
        "# Remove duplicates by aggregating (e.g., taking the mean for each date)\n",
        "data = data.groupby(data.index).mean()\n",
        "\n",
        "# Ensure the index is sorted and set frequency\n",
        "data = data.sort_index()\n",
        "data = data.asfreq('D')  # Assuming daily data\n",
        "\n",
        "# Fill any missing values if necessary\n",
        "data['Body Weight (kg)'].ffill(inplace=True)  # Forward fill missing values\n",
        "\n",
        "# Create a numerical feature for linear regression\n",
        "data['Day'] = np.arange(len(data))\n",
        "\n",
        "# Define features and target variable\n",
        "X = data[['Day']]\n",
        "y = data['Body Weight (kg)']\n",
        "\n",
        "# Split the data into training and testing sets\n",
        "X_train, X_test, y_train, y_test = train_test_split(X, y, test_size=0.2, random_state=42)\n",
        "\n",
        "# Fit the linear regression model\n",
        "model = LinearRegression()\n",
        "model.fit(X_train, y_train)\n",
        "\n",
        "# Generate future index (10 days ahead)\n",
        "future_days = np.arange(len(data), len(data) + 10).reshape(-1, 1)\n",
        "\n",
        "# Make predictions for the next 10 days\n",
        "future_predictions = model.predict(future_days)\n",
        "\n",
        "# Create a DataFrame for future predictions\n",
        "future_dates = pd.date_range(start=data.index[-1] + pd.DateOffset(days=1), periods=10, freq='D')\n",
        "future_forecast = pd.DataFrame(future_predictions, index=future_dates, columns=['Predicted Body Weight (kg)'])\n",
        "\n",
        "print(future_forecast)\n",
        "\n",
        "\n",
        "\n"
      ]
    },
    {
      "cell_type": "code",
      "execution_count": 23,
      "metadata": {
        "colab": {
          "base_uri": "https://localhost:8080/"
        },
        "id": "pbwApyajufYa",
        "outputId": "80612257-4408-4da7-eae5-7a7667e54135"
      },
      "outputs": [
        {
          "name": "stdout",
          "output_type": "stream",
          "text": [
            "Requirement already satisfied: pandas in d:\\angus_issues\\northcarolina_cameroonchapter_angusissues\\venv\\lib\\site-packages (2.0.3)\n",
            "Requirement already satisfied: scikit-learn in d:\\angus_issues\\northcarolina_cameroonchapter_angusissues\\venv\\lib\\site-packages (1.3.2)\n",
            "Requirement already satisfied: statsmodels in d:\\angus_issues\\northcarolina_cameroonchapter_angusissues\\venv\\lib\\site-packages (0.14.1)\n",
            "Requirement already satisfied: python-dateutil>=2.8.2 in d:\\angus_issues\\northcarolina_cameroonchapter_angusissues\\venv\\lib\\site-packages (from pandas) (2.9.0)\n",
            "Requirement already satisfied: pytz>=2020.1 in d:\\angus_issues\\northcarolina_cameroonchapter_angusissues\\venv\\lib\\site-packages (from pandas) (2024.1)\n",
            "Requirement already satisfied: tzdata>=2022.1 in d:\\angus_issues\\northcarolina_cameroonchapter_angusissues\\venv\\lib\\site-packages (from pandas) (2024.1)\n",
            "Requirement already satisfied: numpy>=1.20.3 in d:\\angus_issues\\northcarolina_cameroonchapter_angusissues\\venv\\lib\\site-packages (from pandas) (1.24.4)\n",
            "Requirement already satisfied: scipy>=1.5.0 in d:\\angus_issues\\northcarolina_cameroonchapter_angusissues\\venv\\lib\\site-packages (from scikit-learn) (1.10.1)\n",
            "Requirement already satisfied: joblib>=1.1.1 in d:\\angus_issues\\northcarolina_cameroonchapter_angusissues\\venv\\lib\\site-packages (from scikit-learn) (1.4.2)\n",
            "Requirement already satisfied: threadpoolctl>=2.0.0 in d:\\angus_issues\\northcarolina_cameroonchapter_angusissues\\venv\\lib\\site-packages (from scikit-learn) (3.5.0)\n",
            "Requirement already satisfied: patsy>=0.5.4 in d:\\angus_issues\\northcarolina_cameroonchapter_angusissues\\venv\\lib\\site-packages (from statsmodels) (0.5.6)\n",
            "Requirement already satisfied: packaging>=21.3 in d:\\angus_issues\\northcarolina_cameroonchapter_angusissues\\venv\\lib\\site-packages (from statsmodels) (24.1)\n",
            "Requirement already satisfied: six in d:\\angus_issues\\northcarolina_cameroonchapter_angusissues\\venv\\lib\\site-packages (from patsy>=0.5.4->statsmodels) (1.16.0)\n"
          ]
        }
      ],
      "source": [
        "!pip install pandas scikit-learn statsmodels\n",
        "\n"
      ]
    },
    {
      "cell_type": "code",
      "execution_count": 24,
      "metadata": {
        "id": "yb3HIgyWuosm"
      },
      "outputs": [],
      "source": [
        "import pandas as pd\n",
        "import numpy as np\n",
        "import matplotlib.pyplot as plt\n",
        "from statsmodels.tsa.arima.model import ARIMA\n",
        "from sklearn.linear_model import LinearRegression\n",
        "from sklearn.metrics import mean_squared_error, mean_absolute_error\n"
      ]
    },
    {
      "cell_type": "code",
      "execution_count": 25,
      "metadata": {
        "id": "_JkBVFpTutHe"
      },
      "outputs": [],
      "source": [
        "# Load the data\n",
        "data = pd.read_csv('simulated_dataNEw.csv', parse_dates=['Date'], index_col='Date')\n",
        "\n",
        "# Keep only the 'Body Weight (kg)' column\n",
        "data = data[['Body Weight (kg)']]\n",
        "\n",
        "# Remove duplicates by aggregating (e.g., taking the mean for each date)\n",
        "data = data.groupby(data.index).mean()\n",
        "\n",
        "# Ensure the index is sorted\n",
        "data = data.sort_index()\n",
        "\n",
        "# Fill any missing values\n",
        "data['Body Weight (kg)'].ffill(inplace=True)\n"
      ]
    },
    {
      "cell_type": "code",
      "execution_count": 26,
      "metadata": {
        "id": "foKOsZkcutLX"
      },
      "outputs": [],
      "source": [
        "train_start_date = '2022-01-01'\n",
        "train_end_date = '2022-02-28'\n",
        "test_start_date = '2022-03-01'\n",
        "test_end_date = '2022-03-10'\n",
        "\n",
        "train = data[train_start_date:train_end_date].copy()\n",
        "test = data[test_start_date:test_end_date].copy()\n",
        "\n",
        "# Create time variable for Linear Regression\n",
        "train.loc[:, 'Time'] = np.arange(len(train))\n",
        "test.loc[:, 'Time'] = np.arange(len(train), len(train) + len(test))\n"
      ]
    },
    {
      "cell_type": "code",
      "execution_count": 27,
      "metadata": {
        "id": "_R3tsCO9utNk"
      },
      "outputs": [],
      "source": [
        "X_train = train[['Time']]\n",
        "y_train = train['Body Weight (kg)']\n",
        "X_test = test[['Time']]\n",
        "y_test = test['Body Weight (kg)']\n"
      ]
    },
    {
      "cell_type": "code",
      "execution_count": 28,
      "metadata": {
        "colab": {
          "base_uri": "https://localhost:8080/"
        },
        "id": "154z_TMyu7iq",
        "outputId": "9eb76963-27ac-4eaf-b3db-e3391486d6fb"
      },
      "outputs": [
        {
          "name": "stdout",
          "output_type": "stream",
          "text": [
            "2022-03-01    447.470775\n",
            "Freq: D, dtype: float64\n"
          ]
        }
      ],
      "source": [
        "# Ensure the index has a frequency\n",
        "train.index = pd.date_range(start=train.index[0], end=train.index[-1], freq='D')\n",
        "test.index = pd.date_range(start=test.index[0], end=test.index[-1], freq='D')\n",
        "\n",
        "# ARIMA model setup\n",
        "p, d, q = 1, 0, 1\n",
        "arima_model = ARIMA(train['Body Weight (kg)'], order=(p, d, q))\n",
        "arima_model_fit = arima_model.fit()\n",
        "\n",
        "# Generate forecast for ARIMA\n",
        "arima_forecast = arima_model_fit.forecast(steps=len(test))\n",
        "arima_y_pred = pd.Series(arima_forecast, index=test.index)\n",
        "\n",
        "# Print the forecasted values\n",
        "print(arima_y_pred)\n",
        "\n"
      ]
    },
    {
      "cell_type": "code",
      "execution_count": 29,
      "metadata": {
        "id": "vAD6pjc8u7kN"
      },
      "outputs": [],
      "source": [
        "lr_model = LinearRegression()\n",
        "lr_model.fit(X_train, y_train)\n",
        "\n",
        "# Generate forecast for Linear Regression\n",
        "lr_y_pred = lr_model.predict(X_test)\n",
        "lr_y_pred = pd.Series(lr_y_pred, index=test.index)\n"
      ]
    },
    {
      "cell_type": "code",
      "execution_count": 30,
      "metadata": {
        "colab": {
          "base_uri": "https://localhost:8080/"
        },
        "id": "y6xqfgCe3IUO",
        "outputId": "7ad3a92e-56ca-4fc4-9b63-0887f1a38816"
      },
      "outputs": [
        {
          "name": "stdout",
          "output_type": "stream",
          "text": [
            "            Body Weight (kg)\n",
            "Date                        \n",
            "2022-01-01        423.547511\n",
            "2022-01-02        438.493122\n",
            "2022-01-03        458.381833\n",
            "2022-01-04        446.847448\n",
            "2022-01-05        456.503072\n"
          ]
        }
      ],
      "source": [
        "import pandas as pd\n",
        "import numpy as np\n",
        "\n",
        "# Load data\n",
        "data = pd.read_csv('simulated_dataNEw.csv', parse_dates=['Date'], index_col='Date')\n",
        "\n",
        "# Keep only the 'Body Weight (kg)' column and ensure no duplicates\n",
        "data = data[['Body Weight (kg)']].groupby(data.index).mean()\n",
        "\n",
        "# Ensure the index is sorted and has a daily frequency\n",
        "data = data.sort_index()\n",
        "data = data.asfreq('D')\n",
        "\n",
        "# Fill any missing values\n",
        "data['Body Weight (kg)'].ffill(inplace=True)\n",
        "\n",
        "# Print the first few rows to ensure data is loaded correctly\n",
        "print(data.head())\n"
      ]
    },
    {
      "cell_type": "code",
      "execution_count": 31,
      "metadata": {
        "colab": {
          "base_uri": "https://localhost:8080/"
        },
        "id": "vxaE8T7N3Nm4",
        "outputId": "372226cb-f863-4604-b6df-88783dd89699"
      },
      "outputs": [
        {
          "name": "stdout",
          "output_type": "stream",
          "text": [
            "(59, 1) (1, 1)\n"
          ]
        }
      ],
      "source": [
        "# Split the data into training and testing sets\n",
        "train = data['2022-01-01':'2022-02-28']\n",
        "test = data['2022-03-01':'2022-03-10']\n",
        "\n",
        "# Print the shapes of the train and test sets to ensure correct splitting\n",
        "print(train.shape, test.shape)\n"
      ]
    },
    {
      "cell_type": "code",
      "execution_count": 32,
      "metadata": {
        "colab": {
          "base_uri": "https://localhost:8080/"
        },
        "id": "y2cDi2V_3NsR",
        "outputId": "8d16cb66-b040-4779-dc4d-b82554e866ff"
      },
      "outputs": [
        {
          "name": "stdout",
          "output_type": "stream",
          "text": [
            "Date\n",
            "2022-03-01    447.470775\n",
            "Freq: D, dtype: float64\n"
          ]
        }
      ],
      "source": [
        "from statsmodels.tsa.arima.model import ARIMA\n",
        "\n",
        "# Fit ARIMA model\n",
        "p, d, q = 1, 0, 1\n",
        "arima_model = ARIMA(train['Body Weight (kg)'], order=(p, d, q))\n",
        "arima_model_fit = arima_model.fit()\n",
        "\n",
        "# Generate forecast for ARIMA\n",
        "arima_forecast = arima_model_fit.forecast(steps=len(test))\n",
        "arima_y_pred = pd.Series(arima_forecast, index=test.index)\n",
        "\n",
        "# Print the ARIMA forecast\n",
        "print(arima_y_pred)\n"
      ]
    },
    {
      "cell_type": "code",
      "execution_count": 33,
      "metadata": {
        "colab": {
          "base_uri": "https://localhost:8080/"
        },
        "id": "UnGu3uU93jOU",
        "outputId": "3ade7c66-b7ac-41a6-d691-0a98c315c313"
      },
      "outputs": [
        {
          "name": "stdout",
          "output_type": "stream",
          "text": [
            "ARIMA MSE: 7.245292986906155\n",
            "ARIMA RMSE: 2.691708191261853\n",
            "ARIMA MAE: 2.691708191261853\n"
          ]
        }
      ],
      "source": [
        "from sklearn.metrics import mean_squared_error, mean_absolute_error\n",
        "\n",
        "# Calculate performance metrics for ARIMA\n",
        "arima_mse = mean_squared_error(test['Body Weight (kg)'], arima_y_pred)\n",
        "arima_rmse = np.sqrt(arima_mse)\n",
        "arima_mae = mean_absolute_error(test['Body Weight (kg)'], arima_y_pred)\n",
        "\n",
        "print(f\"ARIMA MSE: {arima_mse}\")\n",
        "print(f\"ARIMA RMSE: {arima_rmse}\")\n",
        "print(f\"ARIMA MAE: {arima_mae}\")\n"
      ]
    },
    {
      "cell_type": "code",
      "execution_count": 35,
      "metadata": {
        "colab": {
          "base_uri": "https://localhost:8080/"
        },
        "id": "tfY-Nn8g3_TB",
        "outputId": "74a9ee81-3931-4726-ca0c-fbd909ebc930"
      },
      "outputs": [
        {
          "name": "stdout",
          "output_type": "stream",
          "text": [
            "                               SARIMAX Results                                \n",
            "==============================================================================\n",
            "Dep. Variable:       Body Weight (kg)   No. Observations:                   60\n",
            "Model:                 ARIMA(1, 0, 1)   Log Likelihood                -232.419\n",
            "Date:                Thu, 08 Aug 2024   AIC                            472.839\n",
            "Time:                        09:55:46   BIC                            481.216\n",
            "Sample:                    01-01-2022   HQIC                           476.116\n",
            "                         - 03-01-2022                                         \n",
            "Covariance Type:                  opg                                         \n",
            "==============================================================================\n",
            "                 coef    std err          z      P>|z|      [0.025      0.975]\n",
            "------------------------------------------------------------------------------\n",
            "const        450.3815      1.732    260.018      0.000     446.987     453.776\n",
            "ar.L1         -0.6463      0.197     -3.274      0.001      -1.033      -0.259\n",
            "ma.L1          0.8631      0.135      6.407      0.000       0.599       1.127\n",
            "sigma2       134.9477     26.112      5.168      0.000      83.769     186.126\n",
            "===================================================================================\n",
            "Ljung-Box (L1) (Q):                   0.22   Jarque-Bera (JB):                 0.64\n",
            "Prob(Q):                              0.64   Prob(JB):                         0.73\n",
            "Heteroskedasticity (H):               0.83   Skew:                            -0.25\n",
            "Prob(H) (two-sided):                  0.68   Kurtosis:                         2.98\n",
            "===================================================================================\n",
            "\n",
            "Warnings:\n",
            "[1] Covariance matrix calculated using the outer product of gradients (complex-step).\n",
            "2022-03-02    452.779391\n",
            "2022-03-03    448.831819\n",
            "2022-03-04    451.382951\n",
            "2022-03-05    449.734273\n",
            "2022-03-06    450.799737\n",
            "2022-03-07    450.111177\n",
            "2022-03-08    450.556162\n",
            "2022-03-09    450.268589\n",
            "2022-03-10    450.454434\n",
            "2022-03-11    450.334331\n",
            "Freq: D, Name: predicted_mean, dtype: float64\n"
          ]
        }
      ],
      "source": [
        "import pandas as pd\n",
        "from statsmodels.tsa.arima.model import ARIMA\n",
        "\n",
        "# Load and preprocess data\n",
        "data = pd.read_csv('simulated_dataNEw.csv', parse_dates=['Date'], index_col='Date')\n",
        "\n",
        "# Keep only the 'Body Weight (kg)' column\n",
        "data = data[['Body Weight (kg)']]\n",
        "\n",
        "# Remove duplicates by aggregating (e.g., taking the mean for each date)\n",
        "data = data.groupby(data.index).mean()\n",
        "\n",
        "# Ensure the index is sorted and set frequency\n",
        "data = data.sort_index()\n",
        "data = data.asfreq('D')  # Assuming daily data\n",
        "\n",
        "# Fill any missing values if necessary\n",
        "data['Body Weight (kg)'].ffill(inplace=True)  # Forward fill missing values\n",
        "\n",
        "# Fit ARIMA model\n",
        "p, d, q = 1, 0, 1  # Example parameters\n",
        "model = ARIMA(data['Body Weight (kg)'], order=(p, d, q))\n",
        "model_fit = model.fit()\n",
        "\n",
        "# Print summary of the model\n",
        "print(model_fit.summary())\n",
        "\n",
        "# Generate future index (10 days ahead)\n",
        "future_index = pd.date_range(start=data.index[-1] + pd.DateOffset(days=1), periods=10, freq='D')\n",
        "\n",
        "# Generate forecast\n",
        "forecast = model_fit.forecast(steps=10)\n",
        "\n",
        "# Create forecast series with future index\n",
        "forecast_series = pd.Series(forecast, index=future_index)\n",
        "print(forecast_series)\n"
      ]
    },
    {
      "cell_type": "code",
      "execution_count": 36,
      "metadata": {
        "colab": {
          "base_uri": "https://localhost:8080/"
        },
        "id": "Q8sTVKSsu7pH",
        "outputId": "d21114e7-f2bb-40b9-8927-9d5ad3da699f"
      },
      "outputs": [
        {
          "name": "stdout",
          "output_type": "stream",
          "text": [
            "ARIMA MSE: 7.245292986906155\n",
            "ARIMA RMSE: 2.691708191261853\n",
            "ARIMA MAE: 2.691708191261853\n",
            "Linear Regression MSE: 0.027582869596254053\n",
            "Linear Regression RMSE: 0.16608091279931614\n",
            "Linear Regression MAE: 0.16608091279931614\n"
          ]
        }
      ],
      "source": [
        "# Calculate performance metrics for ARIMA\n",
        "arima_mse = mean_squared_error(test['Body Weight (kg)'], arima_y_pred)\n",
        "arima_rmse = np.sqrt(arima_mse)\n",
        "arima_mae = mean_absolute_error(test['Body Weight (kg)'], arima_y_pred)\n",
        "\n",
        "print(f\"ARIMA MSE: {arima_mse}\")\n",
        "print(f\"ARIMA RMSE: {arima_rmse}\")\n",
        "print(f\"ARIMA MAE: {arima_mae}\")\n",
        "\n",
        "# Calculate performance metrics for Linear Regression\n",
        "lr_mse = mean_squared_error(test['Body Weight (kg)'], lr_y_pred)\n",
        "lr_rmse = np.sqrt(lr_mse)\n",
        "lr_mae = mean_absolute_error(test['Body Weight (kg)'], lr_y_pred)\n",
        "\n",
        "print(f\"Linear Regression MSE: {lr_mse}\")\n",
        "print(f\"Linear Regression RMSE: {lr_rmse}\")\n",
        "print(f\"Linear Regression MAE: {lr_mae}\")\n"
      ]
    },
    {
      "cell_type": "code",
      "execution_count": 37,
      "metadata": {
        "colab": {
          "base_uri": "https://localhost:8080/",
          "height": 622
        },
        "id": "H9sC3soPDhj9",
        "outputId": "67a41410-8272-4c6e-9cfe-28c28e755dd9"
      },
      "outputs": [
        {
          "data": {
            "image/png": "[encoded data removed]",
            "text/plain": [
              "<Figure size 1400x700 with 2 Axes>"
            ]
          },
          "metadata": {},
          "output_type": "display_data"
        }
      ],
      "source": [
        "plt.figure(figsize=(14, 7))\n",
        "\n",
        "# Actual vs. Predicted for ARIMA\n",
        "plt.subplot(1, 2, 1)\n",
        "plt.plot(test.index, test['Body Weight (kg)'], label='Actual')\n",
        "plt.plot(test.index, arima_y_pred, label='ARIMA Predicted')\n",
        "plt.title('ARIMA: Actual vs. Predicted')\n",
        "plt.legend()\n",
        "\n",
        "# Actual vs. Predicted for Linear Regression\n",
        "plt.subplot(1, 2, 2)\n",
        "plt.plot(test.index, test['Body Weight (kg)'], label='Actual')\n",
        "plt.plot(test.index, lr_y_pred, label='Linear Regression Predicted')\n",
        "plt.title('Linear Regression: Actual vs. Predicted')\n",
        "plt.legend()\n",
        "\n",
        "plt.show()"
      ]
    }
  ],
  "metadata": {
    "colab": {
      "provenance": []
    },
    "kernelspec": {
      "display_name": "Python 3",
      "name": "python3"
    },
    "language_info": {
      "codemirror_mode": {
        "name": "ipython",
        "version": 3
      },
      "file_extension": ".py",
      "mimetype": "text/x-python",
      "name": "python",
      "nbconvert_exporter": "python",
      "pygments_lexer": "ipython3",
      "version": "3.8.0"
    }
  },
  "nbformat": 4,
  "nbformat_minor": 0
}

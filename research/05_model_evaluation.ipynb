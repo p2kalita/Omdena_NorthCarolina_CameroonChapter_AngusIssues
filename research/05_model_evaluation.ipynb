{
 "cells": [
  {
   "cell_type": "code",
   "execution_count": 1,
   "metadata": {},
   "outputs": [],
   "source": [
    "import os"
   ]
  },
  {
   "cell_type": "code",
   "execution_count": 2,
   "metadata": {},
   "outputs": [
    {
     "data": {
      "text/plain": [
       "'d:\\\\Angus_Issues\\\\NorthCarolina_CameroonChapter_AngusIssues\\\\research'"
      ]
     },
     "execution_count": 2,
     "metadata": {},
     "output_type": "execute_result"
    }
   ],
   "source": [
    "%pwd"
   ]
  },
  {
   "cell_type": "code",
   "execution_count": 3,
   "metadata": {},
   "outputs": [],
   "source": [
    "os.chdir(\"../\")"
   ]
  },
  {
   "cell_type": "code",
   "execution_count": 4,
   "metadata": {},
   "outputs": [
    {
     "data": {
      "text/plain": [
       "'d:\\\\Angus_Issues\\\\NorthCarolina_CameroonChapter_AngusIssues'"
      ]
     },
     "execution_count": 4,
     "metadata": {},
     "output_type": "execute_result"
    }
   ],
   "source": [
    "%pwd"
   ]
  },
  {
   "cell_type": "code",
   "execution_count": 5,
   "metadata": {},
   "outputs": [],
   "source": [
    "from dataclasses import dataclass\n",
    "from pathlib import Path\n",
    "\n",
    "\n",
    "@dataclass(frozen=True)\n",
    "class ModelEvaluationConfig:\n",
    "    root_dir: Path\n",
    "    data_path: Path\n",
    "    test_data_path: Path\n",
    "    model_path: Path\n",
    "    all_params: dict\n",
    "    metric_file_name: Path\n",
    "    target_column: str"
   ]
  },
  {
   "cell_type": "code",
   "execution_count": 6,
   "metadata": {},
   "outputs": [],
   "source": [
    "from mlProject.constants import *\n",
    "from mlProject.utils.common import read_yaml, create_directories, save_json"
   ]
  },
  {
   "cell_type": "code",
   "execution_count": 7,
   "metadata": {},
   "outputs": [],
   "source": [
    "class ConfigurationManager:\n",
    "    def __init__(\n",
    "        self,\n",
    "        config_filepath = CONFIG_FILE_PATH,\n",
    "        params_filepath = PARAMS_FILE_PATH,\n",
    "        schema_filepath = SCHEMA_FILE_PATH):\n",
    "\n",
    "        self.config = read_yaml(config_filepath)\n",
    "        self.params = read_yaml(params_filepath)\n",
    "        self.schema = read_yaml(schema_filepath)\n",
    "\n",
    "        create_directories([self.config.artifacts_root])\n",
    "\n",
    "\n",
    "    \n",
    "    def get_model_evaluation_config(self) -> ModelEvaluationConfig:\n",
    "        config = self.config.model_evaluation\n",
    "        params = self.params.ETSModel\n",
    "        schema =  self.schema.TARGET_COLUMN\n",
    "        target_column = list(self.schema['TARGET_COLUMN'].keys())[0]\n",
    "\n",
    "\n",
    "        create_directories([config.root_dir])\n",
    "\n",
    "        model_evaluation_config = ModelEvaluationConfig(\n",
    "            root_dir=config.root_dir,\n",
    "            data_path=config.data_path,\n",
    "            test_data_path=config.test_data_path,\n",
    "            model_path = config.model_path,\n",
    "            all_params=params,\n",
    "            metric_file_name = config.metric_file_name,\n",
    "            target_column = target_column\n",
    "           \n",
    "        )\n",
    "\n",
    "        return model_evaluation_config\n"
   ]
  },
  {
   "cell_type": "code",
   "execution_count": 8,
   "metadata": {},
   "outputs": [],
   "source": [
    "import os\n",
    "import pandas as pd\n",
    "from sklearn.metrics import mean_squared_error, mean_absolute_error, r2_score\n",
    "from urllib.parse import urlparse\n",
    "import numpy as np\n",
    "import joblib"
   ]
  },
  {
   "cell_type": "code",
   "execution_count": 9,
   "metadata": {},
   "outputs": [],
   "source": [
    "class ModelEvaluation:\n",
    "    def __init__(self, config: ModelEvaluationConfig):\n",
    "        self.config = config\n",
    "\n",
    "    def eval_metrics(self,actual, pred):\n",
    "        rmse = np.sqrt(mean_squared_error(actual, pred))\n",
    "        #mae = mean_absolute_error(actual, pred)\n",
    "        #r2 = r2_score(actual, pred)\n",
    "        #return rmse, mae, r2\n",
    "        return rmse\n",
    "\n",
    "\n",
    "    def save_results(self):\n",
    "\n",
    "        data = pd.read_csv(self.config.data_path)\n",
    "        data.drop('Unnamed: 0', axis=1, inplace=True)\n",
    "        data['Date'] = pd.to_datetime(data['Date']) # Convert 'Date' column to datetime format\n",
    "        data = data.set_index('Date')\n",
    "\n",
    "        # Initialize forecast results DataFrame\n",
    "        forecast_results = pd.DataFrame(columns=['Date', 'Cow', 'Predicted Body Weight (kg)'])\n",
    "\n",
    "        # Define the date to split the data (adjust the date as needed)\n",
    "        split_date = pd.to_datetime('2022-02-15')\n",
    "\n",
    "        # Extract unique cow IDs from the DataFrame\n",
    "        unique_cows = data['Cow'].unique()\n",
    "        \n",
    "\n",
    "        forecast_results = pd.read_csv(self.config.test_data_path) #importing forecast.csv\n",
    "        \n",
    "\n",
    "        # Extract unique cow IDs from the DataFrame\n",
    "        unique_cows = data['Cow'].unique()\n",
    "        actual_values = []\n",
    "        predicted_values = []\n",
    "\n",
    "        for cow in unique_cows:\n",
    "            cow_data = data[data['Cow'] == cow]\n",
    "\n",
    "            # Split the data into train and test based on the split_date\n",
    "            cow_test_data = cow_data[cow_data.index >= split_date]\n",
    "\n",
    "            # Extract actual values for the test set\n",
    "            actual_values.extend(cow_test_data['Body Weight (kg)'].values)\n",
    "\n",
    "            # Extract predicted values for the test set from forecast_results\n",
    "            cow_predictions = forecast_results[forecast_results['Cow'] == cow]['Predicted Body Weight (kg)'].values\n",
    "            predicted_values.extend(cow_predictions)\n",
    "\n",
    "        # Calculate RMSE\n",
    "        rmse = np.sqrt(mean_squared_error(actual_values, predicted_values))\n",
    "        print(f\"RMSE for ETS Model: {rmse}\")\n",
    "\n",
    "\n",
    "        \n",
    "        # Saving metrics as local\n",
    "        #scores = {\"rmse\": rmse, \"mae\": mae, \"r2\": r2}\n",
    "        scores = {\"rmse\": rmse}\n",
    "        save_json(path=Path(self.config.metric_file_name), data=scores)\n"
   ]
  },
  {
   "cell_type": "code",
   "execution_count": 10,
   "metadata": {},
   "outputs": [
    {
     "name": "stdout",
     "output_type": "stream",
     "text": [
      "[2024-08-18 15:50:15,973: INFO: common: yaml file: config\\config.yaml loaded successfully]\n",
      "[2024-08-18 15:50:15,994: INFO: common: yaml file: params.yaml loaded successfully]\n",
      "[2024-08-18 15:50:16,008: INFO: common: yaml file: schema.yaml loaded successfully]\n",
      "[2024-08-18 15:50:16,011: INFO: common: created directory at: artifacts]\n",
      "[2024-08-18 15:50:16,012: INFO: common: created directory at: artifacts/model_evaluation]\n",
      "RMSE for ETS Model: 103.4605447353742\n",
      "[2024-08-18 15:50:16,172: INFO: common: json file saved at: artifacts\\model_evaluation\\metrics.json]\n"
     ]
    }
   ],
   "source": [
    "try:\n",
    "    config = ConfigurationManager()\n",
    "    model_evaluation_config = config.get_model_evaluation_config()\n",
    "    model_evaluation_config = ModelEvaluation(config=model_evaluation_config)\n",
    "    model_evaluation_config.save_results()\n",
    "except Exception as e:\n",
    "    raise e"
   ]
  }
 ],
 "metadata": {
  "kernelspec": {
   "display_name": "Python 3.8.10 64-bit",
   "language": "python",
   "name": "python3"
  },
  "language_info": {
   "codemirror_mode": {
    "name": "ipython",
    "version": 3
   },
   "file_extension": ".py",
   "mimetype": "text/x-python",
   "name": "python",
   "nbconvert_exporter": "python",
   "pygments_lexer": "ipython3",
   "version": "3.8.0"
  },
  "orig_nbformat": 4,
  "vscode": {
   "interpreter": {
    "hash": "e7370f93d1d0cde622a1f8e1c04877d8463912d04d973331ad4851f04de6915a"
   }
  }
 },
 "nbformat": 4,
 "nbformat_minor": 2
}

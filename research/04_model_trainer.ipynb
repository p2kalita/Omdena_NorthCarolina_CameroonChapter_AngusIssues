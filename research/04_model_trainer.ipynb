{
 "cells": [
  {
   "cell_type": "code",
   "execution_count": 12,
   "metadata": {},
   "outputs": [],
   "source": [
    "import os"
   ]
  },
  {
   "cell_type": "code",
   "execution_count": 13,
   "metadata": {},
   "outputs": [
    {
     "data": {
      "text/plain": [
       "'d:\\\\Angus_Issues\\\\NorthCarolina_CameroonChapter_AngusIssues'"
      ]
     },
     "execution_count": 13,
     "metadata": {},
     "output_type": "execute_result"
    }
   ],
   "source": [
    "%pwd"
   ]
  },
  {
   "cell_type": "code",
   "execution_count": 4,
   "metadata": {},
   "outputs": [],
   "source": [
    "os.chdir(\"../\")"
   ]
  },
  {
   "cell_type": "code",
   "execution_count": 14,
   "metadata": {},
   "outputs": [],
   "source": [
    "from dataclasses import dataclass\n",
    "from pathlib import Path\n",
    "import pandas as pd\n",
    "from statsmodels.tsa.arima.model import ARIMA\n",
    "import joblib"
   ]
  },
  {
   "cell_type": "code",
   "execution_count": 15,
   "metadata": {},
   "outputs": [],
   "source": [
    "@dataclass(frozen=True)\n",
    "class ModelTrainerConfig:\n",
    "    root_dir: Path\n",
    "    data_path: Path\n",
    "    model_name: str\n",
    "    order: tuple\n",
    "    target_column: float"
   ]
  },
  {
   "cell_type": "code",
   "execution_count": 16,
   "metadata": {},
   "outputs": [],
   "source": [
    "# Assuming the presence of helper functions and constants\n",
    "from mlProject.constants import *\n",
    "from mlProject.utils.common import read_yaml, create_directories"
   ]
  },
  {
   "cell_type": "code",
   "execution_count": 17,
   "metadata": {},
   "outputs": [],
   "source": [
    "class ConfigurationManager:\n",
    "    def __init__(\n",
    "        self,\n",
    "        config_filepath=CONFIG_FILE_PATH,\n",
    "        params_filepath=PARAMS_FILE_PATH,\n",
    "        schema_filepath=SCHEMA_FILE_PATH \n",
    "    ):\n",
    "        self.config = read_yaml(config_filepath)\n",
    "        self.params = read_yaml(params_filepath)\n",
    "        self.schema = read_yaml(schema_filepath)\n",
    "\n",
    "        create_directories([self.config.artifacts_root])\n",
    "\n",
    "    def get_model_trainer_config(self) -> ModelTrainerConfig:\n",
    "        config = self.config.model_trainer\n",
    "        params = self.params.ETSModel\n",
    "        schema = self.schema\n",
    "        target_column = list(self.schema['TARGET_COLUMN'].keys())[0]\n",
    "\n",
    "        model_trainer_config = ModelTrainerConfig(\n",
    "            root_dir=Path(config.root_dir),\n",
    "            data_path=config.data_path,\n",
    "            model_name=config.model_name,\n",
    "            order=(params.error, params.trend, params.seasonal),\n",
    "            target_column=target_column\n",
    "        )\n",
    "\n",
    "        return model_trainer_config"
   ]
  },
  {
   "cell_type": "code",
   "execution_count": 18,
   "metadata": {},
   "outputs": [],
   "source": [
    "import os\n",
    "from mlProject import logger\n",
    "import pandas as pd\n",
    "from statsmodels.tsa.exponential_smoothing.ets import ETSModel"
   ]
  },
  {
   "cell_type": "code",
   "execution_count": 21,
   "metadata": {},
   "outputs": [],
   "source": [
    "class ModelTrainer:\n",
    "    def __init__(self, config: ModelTrainerConfig):\n",
    "        self.config = config\n",
    "\n",
    "    def train(self):\n",
    "\n",
    "        data = pd.read_csv(self.config.data_path)\n",
    "        data.drop('Unnamed: 0', axis=1, inplace=True)\n",
    "        data['Date'] = pd.to_datetime(data['Date']) # Convert 'Date' column to datetime format\n",
    "        data = data.set_index('Date')\n",
    "\n",
    "        # Initialize forecast results DataFrame\n",
    "        forecast_results = pd.DataFrame(columns=['Date', 'Cow', 'Predicted Body Weight (kg)'])\n",
    "\n",
    "        # Define the date to split the data (adjust the date as needed)\n",
    "        split_date = pd.to_datetime('2022-02-15')\n",
    "\n",
    "        # Extract unique cow IDs from the DataFrame\n",
    "        unique_cows = data['Cow'].unique()\n",
    "        \n",
    "\n",
    "        # Continue with the forecasting logic\n",
    "        for cow in unique_cows:\n",
    "            cow_data = data[data['Cow'] == cow]\n",
    "\n",
    "            # Ensure that the index is a DatetimeIndex\n",
    "            cow_data.index = pd.to_datetime(cow_data.index)\n",
    "\n",
    "            # Split the data into train and test based on the split_date\n",
    "            cow_train_data = cow_data[cow_data.index < split_date]\n",
    "            cow_test_data = cow_data[cow_data.index >= split_date]\n",
    "\n",
    "            # Fit the model and make predictions\n",
    "            model_ETS = ETSModel(cow_train_data['Body Weight (kg)'], error='add', trend=None, seasonal=None)\n",
    "            model_fit = model_ETS.fit()\n",
    "\n",
    "            # Make predictions for the test set\n",
    "            cow_predictions = model_fit.predict(start=len(cow_train_data), end=len(cow_train_data) + len(cow_test_data) - 1)\n",
    "\n",
    "            # Store the predictions\n",
    "            cow_forecast_df = pd.DataFrame({\n",
    "                'Date': cow_test_data.index,\n",
    "                'Cow': cow,\n",
    "                'Predicted Body Weight (kg)': cow_predictions\n",
    "            })\n",
    "\n",
    "            forecast_results = pd.concat([forecast_results, cow_forecast_df])\n",
    "\n",
    "        forecast_results.reset_index(drop=True, inplace=True)\n",
    "        print(forecast_results)\n",
    "\n",
    "\n",
    "        # Ensure the directory exists\n",
    "        model_dir = os.path.join(self.config.root_dir, 'model_trainer')\n",
    "        os.makedirs(model_dir, exist_ok=True)\n",
    "\n",
    "        forecast_results.to_csv(os.path.join(self.config.root_dir, 'forecast_results.csv'), index=False)\n",
    "\n",
    "\n",
    "        joblib.dump(model_fit, os.path.join(self.config.root_dir, self.config.model_name))"
   ]
  },
  {
   "cell_type": "code",
   "execution_count": 22,
   "metadata": {},
   "outputs": [
    {
     "name": "stdout",
     "output_type": "stream",
     "text": [
      "[2024-08-17 21:25:52,511: INFO: common: yaml file: config\\config.yaml loaded successfully]\n",
      "[2024-08-17 21:25:52,516: INFO: common: yaml file: params.yaml loaded successfully]\n",
      "[2024-08-17 21:25:52,519: INFO: common: yaml file: schema.yaml loaded successfully]\n",
      "[2024-08-17 21:25:52,520: INFO: common: created directory at: artifacts]\n"
     ]
    },
    {
     "name": "stderr",
     "output_type": "stream",
     "text": [
      "d:\\Angus_Issues\\NorthCarolina_CameroonChapter_AngusIssues\\venv\\lib\\site-packages\\statsmodels\\tsa\\base\\tsa_model.py:473: ValueWarning: No frequency information was provided, so inferred frequency D will be used.\n",
      "  self._init_dates(dates, freq)\n",
      "d:\\Angus_Issues\\NorthCarolina_CameroonChapter_AngusIssues\\venv\\lib\\site-packages\\statsmodels\\tsa\\base\\tsa_model.py:473: ValueWarning: No frequency information was provided, so inferred frequency D will be used.\n",
      "  self._init_dates(dates, freq)\n",
      "d:\\Angus_Issues\\NorthCarolina_CameroonChapter_AngusIssues\\venv\\lib\\site-packages\\statsmodels\\tsa\\base\\tsa_model.py:473: ValueWarning: No frequency information was provided, so inferred frequency D will be used.\n",
      "  self._init_dates(dates, freq)\n",
      "d:\\Angus_Issues\\NorthCarolina_CameroonChapter_AngusIssues\\venv\\lib\\site-packages\\statsmodels\\tsa\\base\\tsa_model.py:473: ValueWarning: No frequency information was provided, so inferred frequency D will be used.\n",
      "  self._init_dates(dates, freq)\n",
      "d:\\Angus_Issues\\NorthCarolina_CameroonChapter_AngusIssues\\venv\\lib\\site-packages\\statsmodels\\tsa\\base\\tsa_model.py:473: ValueWarning: No frequency information was provided, so inferred frequency D will be used.\n",
      "  self._init_dates(dates, freq)\n",
      "d:\\Angus_Issues\\NorthCarolina_CameroonChapter_AngusIssues\\venv\\lib\\site-packages\\statsmodels\\tsa\\base\\tsa_model.py:473: ValueWarning: No frequency information was provided, so inferred frequency D will be used.\n",
      "  self._init_dates(dates, freq)\n",
      "d:\\Angus_Issues\\NorthCarolina_CameroonChapter_AngusIssues\\venv\\lib\\site-packages\\statsmodels\\tsa\\base\\tsa_model.py:473: ValueWarning: No frequency information was provided, so inferred frequency D will be used.\n",
      "  self._init_dates(dates, freq)\n",
      "d:\\Angus_Issues\\NorthCarolina_CameroonChapter_AngusIssues\\venv\\lib\\site-packages\\statsmodels\\tsa\\base\\tsa_model.py:473: ValueWarning: No frequency information was provided, so inferred frequency D will be used.\n",
      "  self._init_dates(dates, freq)\n",
      "d:\\Angus_Issues\\NorthCarolina_CameroonChapter_AngusIssues\\venv\\lib\\site-packages\\statsmodels\\tsa\\base\\tsa_model.py:473: ValueWarning: No frequency information was provided, so inferred frequency D will be used.\n",
      "  self._init_dates(dates, freq)\n",
      "d:\\Angus_Issues\\NorthCarolina_CameroonChapter_AngusIssues\\venv\\lib\\site-packages\\statsmodels\\tsa\\base\\tsa_model.py:473: ValueWarning: No frequency information was provided, so inferred frequency D will be used.\n",
      "  self._init_dates(dates, freq)\n",
      "d:\\Angus_Issues\\NorthCarolina_CameroonChapter_AngusIssues\\venv\\lib\\site-packages\\statsmodels\\tsa\\base\\tsa_model.py:473: ValueWarning: No frequency information was provided, so inferred frequency D will be used.\n",
      "  self._init_dates(dates, freq)\n",
      "d:\\Angus_Issues\\NorthCarolina_CameroonChapter_AngusIssues\\venv\\lib\\site-packages\\statsmodels\\tsa\\base\\tsa_model.py:473: ValueWarning: No frequency information was provided, so inferred frequency D will be used.\n",
      "  self._init_dates(dates, freq)\n",
      "d:\\Angus_Issues\\NorthCarolina_CameroonChapter_AngusIssues\\venv\\lib\\site-packages\\statsmodels\\tsa\\base\\tsa_model.py:473: ValueWarning: No frequency information was provided, so inferred frequency D will be used.\n",
      "  self._init_dates(dates, freq)\n",
      "d:\\Angus_Issues\\NorthCarolina_CameroonChapter_AngusIssues\\venv\\lib\\site-packages\\statsmodels\\tsa\\base\\tsa_model.py:473: ValueWarning: No frequency information was provided, so inferred frequency D will be used.\n",
      "  self._init_dates(dates, freq)\n",
      "d:\\Angus_Issues\\NorthCarolina_CameroonChapter_AngusIssues\\venv\\lib\\site-packages\\statsmodels\\tsa\\base\\tsa_model.py:473: ValueWarning: No frequency information was provided, so inferred frequency D will be used.\n",
      "  self._init_dates(dates, freq)\n",
      "d:\\Angus_Issues\\NorthCarolina_CameroonChapter_AngusIssues\\venv\\lib\\site-packages\\statsmodels\\tsa\\base\\tsa_model.py:473: ValueWarning: No frequency information was provided, so inferred frequency D will be used.\n",
      "  self._init_dates(dates, freq)\n",
      "d:\\Angus_Issues\\NorthCarolina_CameroonChapter_AngusIssues\\venv\\lib\\site-packages\\statsmodels\\tsa\\base\\tsa_model.py:473: ValueWarning: No frequency information was provided, so inferred frequency D will be used.\n",
      "  self._init_dates(dates, freq)\n",
      "d:\\Angus_Issues\\NorthCarolina_CameroonChapter_AngusIssues\\venv\\lib\\site-packages\\statsmodels\\tsa\\base\\tsa_model.py:473: ValueWarning: No frequency information was provided, so inferred frequency D will be used.\n",
      "  self._init_dates(dates, freq)\n",
      "d:\\Angus_Issues\\NorthCarolina_CameroonChapter_AngusIssues\\venv\\lib\\site-packages\\statsmodels\\tsa\\base\\tsa_model.py:473: ValueWarning: No frequency information was provided, so inferred frequency D will be used.\n",
      "  self._init_dates(dates, freq)\n",
      "d:\\Angus_Issues\\NorthCarolina_CameroonChapter_AngusIssues\\venv\\lib\\site-packages\\statsmodels\\tsa\\base\\tsa_model.py:473: ValueWarning: No frequency information was provided, so inferred frequency D will be used.\n",
      "  self._init_dates(dates, freq)\n",
      "d:\\Angus_Issues\\NorthCarolina_CameroonChapter_AngusIssues\\venv\\lib\\site-packages\\statsmodels\\tsa\\base\\tsa_model.py:473: ValueWarning: No frequency information was provided, so inferred frequency D will be used.\n",
      "  self._init_dates(dates, freq)\n",
      "d:\\Angus_Issues\\NorthCarolina_CameroonChapter_AngusIssues\\venv\\lib\\site-packages\\statsmodels\\tsa\\base\\tsa_model.py:473: ValueWarning: No frequency information was provided, so inferred frequency D will be used.\n",
      "  self._init_dates(dates, freq)\n",
      "d:\\Angus_Issues\\NorthCarolina_CameroonChapter_AngusIssues\\venv\\lib\\site-packages\\statsmodels\\tsa\\base\\tsa_model.py:473: ValueWarning: No frequency information was provided, so inferred frequency D will be used.\n",
      "  self._init_dates(dates, freq)\n",
      "d:\\Angus_Issues\\NorthCarolina_CameroonChapter_AngusIssues\\venv\\lib\\site-packages\\statsmodels\\tsa\\base\\tsa_model.py:473: ValueWarning: No frequency information was provided, so inferred frequency D will be used.\n",
      "  self._init_dates(dates, freq)\n",
      "d:\\Angus_Issues\\NorthCarolina_CameroonChapter_AngusIssues\\venv\\lib\\site-packages\\statsmodels\\tsa\\base\\tsa_model.py:473: ValueWarning: No frequency information was provided, so inferred frequency D will be used.\n",
      "  self._init_dates(dates, freq)\n",
      "d:\\Angus_Issues\\NorthCarolina_CameroonChapter_AngusIssues\\venv\\lib\\site-packages\\statsmodels\\tsa\\base\\tsa_model.py:473: ValueWarning: No frequency information was provided, so inferred frequency D will be used.\n",
      "  self._init_dates(dates, freq)\n",
      "d:\\Angus_Issues\\NorthCarolina_CameroonChapter_AngusIssues\\venv\\lib\\site-packages\\statsmodels\\tsa\\base\\tsa_model.py:473: ValueWarning: No frequency information was provided, so inferred frequency D will be used.\n",
      "  self._init_dates(dates, freq)\n",
      "d:\\Angus_Issues\\NorthCarolina_CameroonChapter_AngusIssues\\venv\\lib\\site-packages\\statsmodels\\tsa\\base\\tsa_model.py:473: ValueWarning: No frequency information was provided, so inferred frequency D will be used.\n",
      "  self._init_dates(dates, freq)\n",
      "d:\\Angus_Issues\\NorthCarolina_CameroonChapter_AngusIssues\\venv\\lib\\site-packages\\statsmodels\\tsa\\base\\tsa_model.py:473: ValueWarning: No frequency information was provided, so inferred frequency D will be used.\n",
      "  self._init_dates(dates, freq)\n",
      "d:\\Angus_Issues\\NorthCarolina_CameroonChapter_AngusIssues\\venv\\lib\\site-packages\\statsmodels\\tsa\\base\\tsa_model.py:473: ValueWarning: No frequency information was provided, so inferred frequency D will be used.\n",
      "  self._init_dates(dates, freq)\n",
      "d:\\Angus_Issues\\NorthCarolina_CameroonChapter_AngusIssues\\venv\\lib\\site-packages\\statsmodels\\tsa\\base\\tsa_model.py:473: ValueWarning: No frequency information was provided, so inferred frequency D will be used.\n",
      "  self._init_dates(dates, freq)\n",
      "d:\\Angus_Issues\\NorthCarolina_CameroonChapter_AngusIssues\\venv\\lib\\site-packages\\statsmodels\\tsa\\base\\tsa_model.py:473: ValueWarning: No frequency information was provided, so inferred frequency D will be used.\n",
      "  self._init_dates(dates, freq)\n",
      "d:\\Angus_Issues\\NorthCarolina_CameroonChapter_AngusIssues\\venv\\lib\\site-packages\\statsmodels\\tsa\\base\\tsa_model.py:473: ValueWarning: No frequency information was provided, so inferred frequency D will be used.\n",
      "  self._init_dates(dates, freq)\n",
      "d:\\Angus_Issues\\NorthCarolina_CameroonChapter_AngusIssues\\venv\\lib\\site-packages\\statsmodels\\tsa\\base\\tsa_model.py:473: ValueWarning: No frequency information was provided, so inferred frequency D will be used.\n",
      "  self._init_dates(dates, freq)\n",
      "d:\\Angus_Issues\\NorthCarolina_CameroonChapter_AngusIssues\\venv\\lib\\site-packages\\statsmodels\\tsa\\base\\tsa_model.py:473: ValueWarning: No frequency information was provided, so inferred frequency D will be used.\n",
      "  self._init_dates(dates, freq)\n",
      "d:\\Angus_Issues\\NorthCarolina_CameroonChapter_AngusIssues\\venv\\lib\\site-packages\\statsmodels\\tsa\\base\\tsa_model.py:473: ValueWarning: No frequency information was provided, so inferred frequency D will be used.\n",
      "  self._init_dates(dates, freq)\n",
      "d:\\Angus_Issues\\NorthCarolina_CameroonChapter_AngusIssues\\venv\\lib\\site-packages\\statsmodels\\tsa\\base\\tsa_model.py:473: ValueWarning: No frequency information was provided, so inferred frequency D will be used.\n",
      "  self._init_dates(dates, freq)\n",
      "d:\\Angus_Issues\\NorthCarolina_CameroonChapter_AngusIssues\\venv\\lib\\site-packages\\statsmodels\\tsa\\base\\tsa_model.py:473: ValueWarning: No frequency information was provided, so inferred frequency D will be used.\n",
      "  self._init_dates(dates, freq)\n",
      "d:\\Angus_Issues\\NorthCarolina_CameroonChapter_AngusIssues\\venv\\lib\\site-packages\\statsmodels\\tsa\\base\\tsa_model.py:473: ValueWarning: No frequency information was provided, so inferred frequency D will be used.\n",
      "  self._init_dates(dates, freq)\n",
      "d:\\Angus_Issues\\NorthCarolina_CameroonChapter_AngusIssues\\venv\\lib\\site-packages\\statsmodels\\tsa\\base\\tsa_model.py:473: ValueWarning: No frequency information was provided, so inferred frequency D will be used.\n",
      "  self._init_dates(dates, freq)\n",
      "d:\\Angus_Issues\\NorthCarolina_CameroonChapter_AngusIssues\\venv\\lib\\site-packages\\statsmodels\\tsa\\base\\tsa_model.py:473: ValueWarning: No frequency information was provided, so inferred frequency D will be used.\n",
      "  self._init_dates(dates, freq)\n",
      "d:\\Angus_Issues\\NorthCarolina_CameroonChapter_AngusIssues\\venv\\lib\\site-packages\\statsmodels\\tsa\\base\\tsa_model.py:473: ValueWarning: No frequency information was provided, so inferred frequency D will be used.\n",
      "  self._init_dates(dates, freq)\n",
      "d:\\Angus_Issues\\NorthCarolina_CameroonChapter_AngusIssues\\venv\\lib\\site-packages\\statsmodels\\tsa\\base\\tsa_model.py:473: ValueWarning: No frequency information was provided, so inferred frequency D will be used.\n",
      "  self._init_dates(dates, freq)\n",
      "d:\\Angus_Issues\\NorthCarolina_CameroonChapter_AngusIssues\\venv\\lib\\site-packages\\statsmodels\\tsa\\base\\tsa_model.py:473: ValueWarning: No frequency information was provided, so inferred frequency D will be used.\n",
      "  self._init_dates(dates, freq)\n",
      "d:\\Angus_Issues\\NorthCarolina_CameroonChapter_AngusIssues\\venv\\lib\\site-packages\\statsmodels\\tsa\\base\\tsa_model.py:473: ValueWarning: No frequency information was provided, so inferred frequency D will be used.\n",
      "  self._init_dates(dates, freq)\n",
      "d:\\Angus_Issues\\NorthCarolina_CameroonChapter_AngusIssues\\venv\\lib\\site-packages\\statsmodels\\tsa\\base\\tsa_model.py:473: ValueWarning: No frequency information was provided, so inferred frequency D will be used.\n",
      "  self._init_dates(dates, freq)\n",
      "d:\\Angus_Issues\\NorthCarolina_CameroonChapter_AngusIssues\\venv\\lib\\site-packages\\statsmodels\\tsa\\base\\tsa_model.py:473: ValueWarning: No frequency information was provided, so inferred frequency D will be used.\n",
      "  self._init_dates(dates, freq)\n",
      "d:\\Angus_Issues\\NorthCarolina_CameroonChapter_AngusIssues\\venv\\lib\\site-packages\\statsmodels\\tsa\\base\\tsa_model.py:473: ValueWarning: No frequency information was provided, so inferred frequency D will be used.\n",
      "  self._init_dates(dates, freq)\n",
      "d:\\Angus_Issues\\NorthCarolina_CameroonChapter_AngusIssues\\venv\\lib\\site-packages\\statsmodels\\tsa\\base\\tsa_model.py:473: ValueWarning: No frequency information was provided, so inferred frequency D will be used.\n",
      "  self._init_dates(dates, freq)\n",
      "d:\\Angus_Issues\\NorthCarolina_CameroonChapter_AngusIssues\\venv\\lib\\site-packages\\statsmodels\\tsa\\base\\tsa_model.py:473: ValueWarning: No frequency information was provided, so inferred frequency D will be used.\n",
      "  self._init_dates(dates, freq)\n",
      "d:\\Angus_Issues\\NorthCarolina_CameroonChapter_AngusIssues\\venv\\lib\\site-packages\\statsmodels\\tsa\\base\\tsa_model.py:473: ValueWarning: No frequency information was provided, so inferred frequency D will be used.\n",
      "  self._init_dates(dates, freq)\n",
      "d:\\Angus_Issues\\NorthCarolina_CameroonChapter_AngusIssues\\venv\\lib\\site-packages\\statsmodels\\tsa\\base\\tsa_model.py:473: ValueWarning: No frequency information was provided, so inferred frequency D will be used.\n",
      "  self._init_dates(dates, freq)\n",
      "d:\\Angus_Issues\\NorthCarolina_CameroonChapter_AngusIssues\\venv\\lib\\site-packages\\statsmodels\\tsa\\base\\tsa_model.py:473: ValueWarning: No frequency information was provided, so inferred frequency D will be used.\n",
      "  self._init_dates(dates, freq)\n",
      "d:\\Angus_Issues\\NorthCarolina_CameroonChapter_AngusIssues\\venv\\lib\\site-packages\\statsmodels\\tsa\\base\\tsa_model.py:473: ValueWarning: No frequency information was provided, so inferred frequency D will be used.\n",
      "  self._init_dates(dates, freq)\n"
     ]
    },
    {
     "name": "stdout",
     "output_type": "stream",
     "text": [
      "          Date     Cow  Predicted Body Weight (kg)\n",
      "0   2022-02-15   Cow 1                  430.036713\n",
      "1   2022-02-16   Cow 1                  430.036713\n",
      "2   2022-02-17   Cow 1                  430.036713\n",
      "3   2022-02-18   Cow 1                  430.036713\n",
      "4   2022-02-19   Cow 1                  430.036713\n",
      "..         ...     ...                         ...\n",
      "895 2022-02-25  Cow 60                  456.172075\n",
      "896 2022-02-26  Cow 60                  456.172075\n",
      "897 2022-02-27  Cow 60                  456.172075\n",
      "898 2022-02-28  Cow 60                  456.172075\n",
      "899 2022-03-01  Cow 60                  456.172075\n",
      "\n",
      "[900 rows x 3 columns]\n"
     ]
    },
    {
     "name": "stderr",
     "output_type": "stream",
     "text": [
      "d:\\Angus_Issues\\NorthCarolina_CameroonChapter_AngusIssues\\venv\\lib\\site-packages\\statsmodels\\tsa\\base\\tsa_model.py:473: ValueWarning: No frequency information was provided, so inferred frequency D will be used.\n",
      "  self._init_dates(dates, freq)\n",
      "d:\\Angus_Issues\\NorthCarolina_CameroonChapter_AngusIssues\\venv\\lib\\site-packages\\statsmodels\\tsa\\base\\tsa_model.py:473: ValueWarning: No frequency information was provided, so inferred frequency D will be used.\n",
      "  self._init_dates(dates, freq)\n",
      "d:\\Angus_Issues\\NorthCarolina_CameroonChapter_AngusIssues\\venv\\lib\\site-packages\\statsmodels\\tsa\\base\\tsa_model.py:473: ValueWarning: No frequency information was provided, so inferred frequency D will be used.\n",
      "  self._init_dates(dates, freq)\n",
      "d:\\Angus_Issues\\NorthCarolina_CameroonChapter_AngusIssues\\venv\\lib\\site-packages\\statsmodels\\tsa\\base\\tsa_model.py:473: ValueWarning: No frequency information was provided, so inferred frequency D will be used.\n",
      "  self._init_dates(dates, freq)\n",
      "d:\\Angus_Issues\\NorthCarolina_CameroonChapter_AngusIssues\\venv\\lib\\site-packages\\statsmodels\\tsa\\base\\tsa_model.py:473: ValueWarning: No frequency information was provided, so inferred frequency D will be used.\n",
      "  self._init_dates(dates, freq)\n",
      "d:\\Angus_Issues\\NorthCarolina_CameroonChapter_AngusIssues\\venv\\lib\\site-packages\\statsmodels\\tsa\\base\\tsa_model.py:473: ValueWarning: No frequency information was provided, so inferred frequency D will be used.\n",
      "  self._init_dates(dates, freq)\n"
     ]
    }
   ],
   "source": [
    "# Main training execution\n",
    "try:\n",
    "    config = ConfigurationManager()\n",
    "    model_trainer_config = config.get_model_trainer_config()\n",
    "    model_trainer = ModelTrainer(config=model_trainer_config)\n",
    "    model_trainer.train()\n",
    "except Exception as e:\n",
    "    raise e"
   ]
  },
  {
   "cell_type": "code",
   "execution_count": null,
   "metadata": {},
   "outputs": [],
   "source": []
  }
 ],
 "metadata": {
  "kernelspec": {
   "display_name": "Python 3",
   "language": "python",
   "name": "python3"
  },
  "language_info": {
   "codemirror_mode": {
    "name": "ipython",
    "version": 3
   },
   "file_extension": ".py",
   "mimetype": "text/x-python",
   "name": "python",
   "nbconvert_exporter": "python",
   "pygments_lexer": "ipython3",
   "version": "3.8.0"
  }
 },
 "nbformat": 4,
 "nbformat_minor": 2
}
